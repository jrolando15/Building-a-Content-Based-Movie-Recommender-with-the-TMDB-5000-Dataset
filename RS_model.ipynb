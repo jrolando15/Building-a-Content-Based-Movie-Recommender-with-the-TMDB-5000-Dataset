{
 "cells": [
  {
   "cell_type": "code",
   "execution_count": 1,
   "metadata": {},
   "outputs": [],
   "source": [
    "import pandas as pd\n",
    "import numpy as np\n",
    "\n",
    "from sklearn.feature_extraction.text import CountVectorizer\n",
    "from nltk.stem.porter import PorterStemmer\n",
    "from sklearn.metrics.pairwise import cosine_similarity\n",
    "import ast\n"
   ]
  },
  {
   "cell_type": "code",
   "execution_count": 2,
   "metadata": {},
   "outputs": [],
   "source": [
    "credits = pd.read_csv(r\"C:\\Users\\Lenovo\\Documents\\Projects\\RS_TMDB_5000\\dataset\\TMB500\\tmdb_5000_credits.csv\")\n",
    "movies = pd.read_csv(r\"C:\\Users\\Lenovo\\Documents\\Projects\\RS_TMDB_5000\\dataset\\TMB500\\tmdb_5000_movies.csv\")"
   ]
  },
  {
   "cell_type": "code",
   "execution_count": 3,
   "metadata": {},
   "outputs": [],
   "source": [
    "movies['title'] = movies['title'].astype(str)\n",
    "credits['title'] = credits['title'].astype(str)"
   ]
  },
  {
   "cell_type": "code",
   "execution_count": 4,
   "metadata": {},
   "outputs": [],
   "source": [
    "# Merge datasets on the 'title' column\n",
    "merged_df = movies.merge(credits, on='title')\n",
    "\n",
    "# Select relevant columns\n",
    "merged_df = merged_df[['movie_id', 'title', 'overview', 'genres', 'keywords', 'cast', 'crew']]\n",
    "\n",
    "# Drop rows with missing values\n",
    "merged_df.dropna(inplace=True)"
   ]
  },
  {
   "cell_type": "code",
   "execution_count": 5,
   "metadata": {},
   "outputs": [],
   "source": [
    "def parse_list(obj):\n",
    "    return [item['name'] for item in ast.literal_eval(obj)]\n",
    "\n",
    "merged_df['genres'] = merged_df['genres'].apply(parse_list)\n",
    "merged_df['keywords'] = merged_df['keywords'].apply(parse_list)"
   ]
  },
  {
   "cell_type": "code",
   "execution_count": 6,
   "metadata": {},
   "outputs": [],
   "source": [
    "def get_top_cast(obj):\n",
    "    return[item['name'] for item in ast.literal_eval(obj)[:5]]\n",
    "\n",
    "merged_df['cast'] = merged_df['cast'].apply(get_top_cast)"
   ]
  },
  {
   "cell_type": "code",
   "execution_count": 7,
   "metadata": {},
   "outputs": [],
   "source": [
    "def get_director(obj):\n",
    "    for item in ast.literal_eval(obj):\n",
    "        if item['job'] == 'Director':\n",
    "            return [item['name']]\n",
    "    return[]\n",
    "\n",
    "merged_df['crew'] = merged_df['crew'].apply(get_director)"
   ]
  },
  {
   "cell_type": "code",
   "execution_count": 9,
   "metadata": {},
   "outputs": [],
   "source": [
    "def remove_spaces(L):\n",
    "    return [item.replace(' ', '') for item in L]"
   ]
  },
  {
   "cell_type": "code",
   "execution_count": 10,
   "metadata": {},
   "outputs": [],
   "source": [
    "merged_df['cast'] = merged_df['cast'].apply(remove_spaces)\n",
    "merged_df['crew'] = merged_df['crew'].apply(remove_spaces)\n",
    "merged_df['keywords'] = merged_df['keywords'].apply(remove_spaces)\n",
    "merged_df['genres'] = merged_df['genres'].apply(remove_spaces)\n"
   ]
  },
  {
   "cell_type": "code",
   "execution_count": 11,
   "metadata": {},
   "outputs": [],
   "source": [
    "merged_df['tags'] = merged_df['genres'] + merged_df['keywords'] + merged_df['cast'] + merged_df['crew']\n",
    "merged_df['tags'] = merged_df['tags'].apply(lambda x: \" \".join(x).lower())"
   ]
  },
  {
   "cell_type": "code",
   "execution_count": 12,
   "metadata": {},
   "outputs": [],
   "source": [
    "# Initialize the PorterStemmer\n",
    "ps = PorterStemmer()\n",
    "\n",
    "# Function to stem words\n",
    "def stem_words(text):\n",
    "    return \" \".join([ps.stem(word) for word in text.split()])\n",
    "\n",
    "# Apply stemming to the 'tags' column\n",
    "merged_df['tags'] = merged_df['tags'].apply(stem_words)"
   ]
  },
  {
   "cell_type": "code",
   "execution_count": 13,
   "metadata": {},
   "outputs": [],
   "source": [
    "cv = CountVectorizer(max_features = 5000, stop_words='english')\n",
    "vectors = cv.fit_transform(merged_df['tags']).toarray()\n",
    "\n",
    "similarity_matrix = cosine_similarity(vectors)"
   ]
  },
  {
   "cell_type": "code",
   "execution_count": 21,
   "metadata": {},
   "outputs": [
    {
     "name": "stdout",
     "output_type": "stream",
     "text": [
      "Recommendations for 'Spider-Man':\n",
      "Spider-Man 3\n",
      "Spider-Man 2\n",
      "Thor: The Dark World\n",
      "Ghost Rider: Spirit of Vengeance\n",
      "The Monkey King 2\n"
     ]
    }
   ],
   "source": [
    "def recommend_movie(movie_title):\n",
    "    if movie_title not in merged_df['title'].values:\n",
    "        print(\"Movie not Found in the dataset.\")\n",
    "        return\n",
    "    movie_index = merged_df[merged_df['title'] == movie_title].index[0]\n",
    "    distances = similarity_matrix[movie_index]\n",
    "    movie_indices = sorted(list(enumerate(distances)), key = lambda x: x[1], reverse=True) [1:6]\n",
    "    recommendations = [merged_df.iloc[i[0]].title for i in movie_indices]\n",
    "    print(\"Recommendations for '{}':\".format(movie_title))\n",
    "    for title in recommendations:\n",
    "        print(title)\n",
    "\n",
    "if __name__ == \"__main__\":\n",
    "    user_movie = input(\"Enter a movie name to get recommendations: \")\n",
    "    recommend_movie(user_movie)"
   ]
  },
  {
   "cell_type": "code",
   "execution_count": null,
   "metadata": {},
   "outputs": [],
   "source": []
  }
 ],
 "metadata": {
  "kernelspec": {
   "display_name": "RS",
   "language": "python",
   "name": "python3"
  },
  "language_info": {
   "codemirror_mode": {
    "name": "ipython",
    "version": 3
   },
   "file_extension": ".py",
   "mimetype": "text/x-python",
   "name": "python",
   "nbconvert_exporter": "python",
   "pygments_lexer": "ipython3",
   "version": "3.12.0"
  }
 },
 "nbformat": 4,
 "nbformat_minor": 2
}
